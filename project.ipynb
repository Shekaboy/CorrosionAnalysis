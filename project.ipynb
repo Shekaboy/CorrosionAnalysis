{
 "cells": [
  {
   "cell_type": "code",
   "execution_count": 1,
   "metadata": {},
   "outputs": [],
   "source": [
    "import numpy as np \n",
    "import pandas as pd\n"
   ]
  },
  {
   "cell_type": "code",
   "execution_count": 2,
   "metadata": {},
   "outputs": [
    {
     "data": {
      "text/html": [
       "<div>\n",
       "<style scoped>\n",
       "    .dataframe tbody tr th:only-of-type {\n",
       "        vertical-align: middle;\n",
       "    }\n",
       "\n",
       "    .dataframe tbody tr th {\n",
       "        vertical-align: top;\n",
       "    }\n",
       "\n",
       "    .dataframe thead th {\n",
       "        text-align: right;\n",
       "    }\n",
       "</style>\n",
       "<table border=\"1\" class=\"dataframe\">\n",
       "  <thead>\n",
       "    <tr style=\"text-align: right;\">\n",
       "      <th></th>\n",
       "      <th>Year</th>\n",
       "      <th>First Author</th>\n",
       "      <th>Alloy, condition/form</th>\n",
       "      <th>Composition, wt%</th>\n",
       "      <th>c</th>\n",
       "      <th>TA,\\n%</th>\n",
       "      <th>Exp</th>\n",
       "      <th>M</th>\n",
       "      <th>CR,\\nmm/y</th>\n",
       "      <th>Ref</th>\n",
       "    </tr>\n",
       "  </thead>\n",
       "  <tbody>\n",
       "    <tr>\n",
       "      <th>0</th>\n",
       "      <td>2019</td>\n",
       "      <td>Bahmani</td>\n",
       "      <td>MgMnCa, XM11</td>\n",
       "      <td>Mg0.52Mn0.39Ca</td>\n",
       "      <td>B</td>\n",
       "      <td>0.9</td>\n",
       "      <td>1, 7 d</td>\n",
       "      <td>Pw</td>\n",
       "      <td>1.7</td>\n",
       "      <td>18</td>\n",
       "    </tr>\n",
       "    <tr>\n",
       "      <th>1</th>\n",
       "      <td>2019</td>\n",
       "      <td>Bahmani</td>\n",
       "      <td>MgMnCa, XM11</td>\n",
       "      <td>Mg0.52Mn0.39Ca</td>\n",
       "      <td>B</td>\n",
       "      <td>0.9</td>\n",
       "      <td>1, 0.5 h</td>\n",
       "      <td>Pi</td>\n",
       "      <td>0.64</td>\n",
       "      <td>18</td>\n",
       "    </tr>\n",
       "    <tr>\n",
       "      <th>2</th>\n",
       "      <td>2019</td>\n",
       "      <td>Bahmani</td>\n",
       "      <td>MgMnCaAl, AXM211</td>\n",
       "      <td>Mg0.48Mn0.42Ca2.38Al</td>\n",
       "      <td>B</td>\n",
       "      <td>3.3</td>\n",
       "      <td>1, 7 d</td>\n",
       "      <td>Pw</td>\n",
       "      <td>8.7</td>\n",
       "      <td>18</td>\n",
       "    </tr>\n",
       "    <tr>\n",
       "      <th>3</th>\n",
       "      <td>2019</td>\n",
       "      <td>Bahmani</td>\n",
       "      <td>MgMnCaAl, AXM211</td>\n",
       "      <td>Mg0.48Mn0.42Ca2.38Al</td>\n",
       "      <td>B</td>\n",
       "      <td>3.3</td>\n",
       "      <td>1, 0.5 h</td>\n",
       "      <td>Pi</td>\n",
       "      <td>1.5</td>\n",
       "      <td>18</td>\n",
       "    </tr>\n",
       "    <tr>\n",
       "      <th>4</th>\n",
       "      <td>2019</td>\n",
       "      <td>Bahmani</td>\n",
       "      <td>MgMnCaSn, TXM911</td>\n",
       "      <td>Mg0.54Mn0.49Ca9.14Sn</td>\n",
       "      <td>B</td>\n",
       "      <td>10</td>\n",
       "      <td>1, 7 d</td>\n",
       "      <td>Pw</td>\n",
       "      <td>8.8</td>\n",
       "      <td>18</td>\n",
       "    </tr>\n",
       "  </tbody>\n",
       "</table>\n",
       "</div>"
      ],
      "text/plain": [
       "   Year First Author Alloy, condition/form      Composition, wt%  c TA,\\n%  \\\n",
       "0  2019      Bahmani          MgMnCa, XM11        Mg0.52Mn0.39Ca  B    0.9   \n",
       "1  2019      Bahmani          MgMnCa, XM11        Mg0.52Mn0.39Ca  B    0.9   \n",
       "2  2019      Bahmani      MgMnCaAl, AXM211  Mg0.48Mn0.42Ca2.38Al  B    3.3   \n",
       "3  2019      Bahmani      MgMnCaAl, AXM211  Mg0.48Mn0.42Ca2.38Al  B    3.3   \n",
       "4  2019      Bahmani      MgMnCaSn, TXM911  Mg0.54Mn0.49Ca9.14Sn  B     10   \n",
       "\n",
       "        Exp   M CR,\\nmm/y  Ref  \n",
       "0    1, 7 d  Pw       1.7   18  \n",
       "1  1, 0.5 h  Pi      0.64   18  \n",
       "2    1, 7 d  Pw       8.7   18  \n",
       "3  1, 0.5 h  Pi       1.5   18  \n",
       "4    1, 7 d  Pw       8.8   18  "
      ]
     },
     "execution_count": 2,
     "metadata": {},
     "output_type": "execute_result"
    }
   ],
   "source": [
    "df = pd.read_excel(\"data.xlsx\")\n",
    "df.head()"
   ]
  },
  {
   "cell_type": "code",
   "execution_count": null,
   "metadata": {},
   "outputs": [],
   "source": [
    "data = []\n",
    "for i in range(len(df)):\n",
    "    tmplst = []\n",
    "    "
   ]
  }
 ],
 "metadata": {
  "interpreter": {
   "hash": "00ec44c01a8af566218f0e498b3e0f0806b34d9225a91b712d80a039cab71355"
  },
  "kernelspec": {
   "display_name": "Python 3.9.7 ('ai')",
   "language": "python",
   "name": "python3"
  },
  "language_info": {
   "codemirror_mode": {
    "name": "ipython",
    "version": 3
   },
   "file_extension": ".py",
   "mimetype": "text/x-python",
   "name": "python",
   "nbconvert_exporter": "python",
   "pygments_lexer": "ipython3",
   "version": "3.9.7"
  },
  "orig_nbformat": 4
 },
 "nbformat": 4,
 "nbformat_minor": 2
}
